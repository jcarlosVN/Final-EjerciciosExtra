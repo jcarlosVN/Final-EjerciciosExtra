{
 "cells": [
  {
   "cell_type": "markdown",
   "metadata": {
    "tags": []
   },
   "source": [
    "## Problemas de Expresiones Regulares\n",
    "---------------------------------------------\n"
   ]
  },
  {
   "cell_type": "code",
   "execution_count": 1,
   "metadata": {},
   "outputs": [],
   "source": [
    "from modulo import datos\n",
    "import re"
   ]
  },
  {
   "cell_type": "code",
   "execution_count": 2,
   "metadata": {},
   "outputs": [],
   "source": [
    "path = './src/re/short_tweets.csv'"
   ]
  },
  {
   "cell_type": "markdown",
   "metadata": {},
   "source": [
    "<h3>1.</h3>\n",
    "\n",
    "Escriba una expresión regular que encuentre todas las coincidencias que sigan el siguiente patrón.\n",
    "\n",
    "Ej. <code>@robot3!</code>"
   ]
  },
  {
   "cell_type": "code",
   "execution_count": 3,
   "metadata": {},
   "outputs": [
    {
     "data": {
      "text/plain": [
       "['@robot9!', '@robot4&', '@robot9$', '@robot7%']"
      ]
     },
     "execution_count": 3,
     "metadata": {},
     "output_type": "execute_result"
    }
   ],
   "source": [
    "# Cadena entrada\n",
    "s = '@robot9! @robot4& I have a good feeling that the show isgoing to be amazing! @robot9$ @robot7%'\n",
    "regex = r'@robot\\d\\W'\n",
    "cadena = re.findall(regex, s)\n",
    "cadena"
   ]
  },
  {
   "cell_type": "markdown",
   "metadata": {},
   "source": [
    "<h3>2.</h3>\n",
    "Escriba una expresión regular para cada caso: \n",
    "\n",
    "- todos los usuarios que sigan el siguente patron. <code>User_mentions:9</code>\n",
    "\n",
    "- encuentre los numero de likes: <code>likes: 5</code>\n",
    "\n",
    "- que permita encontrar el numero de retweets. <code>number of retweets: 4</code>"
   ]
  },
  {
   "cell_type": "code",
   "execution_count": 4,
   "metadata": {},
   "outputs": [],
   "source": [
    "# Cadena entrada\n",
    "s = \"Unfortunately one of those moments wasn't a giant squid monster. User_mentions:2, likes: 9, number of retweets: 7\"\n",
    "regex1=r'User_mentions:\\d'\n",
    "regex2=r\"likes:\\s\\d\"\n",
    "regex3=r\"number of retweets:\\s\\d\""
   ]
  },
  {
   "cell_type": "code",
   "execution_count": 5,
   "metadata": {},
   "outputs": [
    {
     "data": {
      "text/plain": [
       "[['User_mentions:2'], ['likes: 9'], ['number of retweets: 7']]"
      ]
     },
     "execution_count": 5,
     "metadata": {},
     "output_type": "execute_result"
    }
   ],
   "source": [
    "lista = []\n",
    "lista.append(re.findall(regex1, s))\n",
    "lista.append(re.findall(regex2, s))\n",
    "lista.append(re.findall(regex3, s))\n",
    "lista"
   ]
  },
  {
   "cell_type": "markdown",
   "metadata": {},
   "source": [
    "<h3>3.</h3>\n",
    "\n",
    "Escriba una expresión regular que encuente los nombres de archivos txt en la cadena:\n",
    "\n",
    "    - Nombre de archivo txt siempre inicia al principio de la cadena\n",
    "    - Siempre comienzan con una secuencia de 2 o 3 vocales mayúsculas o minúsculas (a e i o u).\n",
    "    - Ellos siempre terminan con el final del txt.\n",
    "\n"
   ]
  },
  {
   "cell_type": "code",
   "execution_count": 6,
   "metadata": {},
   "outputs": [],
   "source": [
    "analisis_sentimientos = datos.read_pandas(path,780,782)"
   ]
  },
  {
   "cell_type": "code",
   "execution_count": 7,
   "metadata": {},
   "outputs": [
    {
     "name": "stdout",
     "output_type": "stream",
     "text": [
      "AIshadowhunters.txt aaaaand back to my literature review. At least i have a friendly cup of coffee to keep me company\n",
      "['AIshadowhunters.txt']\n",
      "ouMYTAXES.txt I am worried that I won't get my $900 even though I paid tax last year\n",
      "['ouMYTAXES.txt']\n"
     ]
    }
   ],
   "source": [
    "regex_1 = r\"^[A-Ua-u]{2,3}.+txt\"  # complete aqui\n",
    "\n",
    "for tweet in analisis_sentimientos:\n",
    "    print(tweet)\n",
    "    \n",
    "    # Encuentre todos los casos\n",
    "    print(re.findall(regex_1, tweet))"
   ]
  },
  {
   "cell_type": "markdown",
   "metadata": {},
   "source": [
    "<h3>4.</h3>\n",
    "\n",
    "Escriba una expresión regular que valide una lista de correos electrónicos\n",
    "- Primera parte:\n",
    "    - Caracteres en mayuscula y minúscula\n",
    "    - Números\n",
    "    - Caracteres especiales: !, #, %, &, *, $, .\n",
    "- Debe contener @\n",
    "- Dominio:\n",
    "    - Puede ser cualquier conjunto de caracteres\n",
    "    - Solo puede terminar con <code>.com</code>\n",
    "\n",
    "ENTRADA:\n",
    "\n",
    "- ['n.john.smith@gmail.com', '87victory@hotmail.com', '!#mary-=@msca.net']\n",
    "    \n",
    "SALIDA:\n",
    "\n",
    "- The email <code>n.john.smith@gmail.com</code> is a valid email\n",
    "- The email <code>87victory@hotmail.com</code> is a valid email\n",
    "- The email <code>!#mary-=@msca.net</code> is invalid\n",
    "\n",
    "\n",
    "Nota:\n",
    "Solo debe generar la crear la expresión regular"
   ]
  },
  {
   "cell_type": "code",
   "execution_count": 8,
   "metadata": {},
   "outputs": [
    {
     "name": "stdout",
     "output_type": "stream",
     "text": [
      "The email n.john.smith@gmail.com is a valid email\n",
      "The email 87victory@hotmail.com is a valid email\n",
      "The email !#mary-=@msca.net is invalid\n"
     ]
    }
   ],
   "source": [
    "# Escriba una expresión regular para validar un correo\n",
    "regex_2 = r\".+@.+\\.com\"\n",
    "\n",
    "emails = ['n.john.smith@gmail.com', '87victory@hotmail.com', '!#mary-=@msca.net']\n",
    "for example in emails:\n",
    "    # Match the regex to the string\n",
    "    if re.match(regex_2, example):\n",
    "        # Complete the format method to print out the result\n",
    "        print(\"The email {email_example} is a valid email\".format(email_example=example))\n",
    "    else:\n",
    "        print(\"The email {email_example} is invalid\".format(email_example=example))"
   ]
  }
 ],
 "metadata": {
  "interpreter": {
   "hash": "e06ff7da33dc9620448857a90ad8b5f428f0d573d205a934d2841c8aee45ea32"
  },
  "kernelspec": {
   "display_name": "Python 3.9.12 ('base')",
   "language": "python",
   "name": "python3"
  },
  "language_info": {
   "codemirror_mode": {
    "name": "ipython",
    "version": 3
   },
   "file_extension": ".py",
   "mimetype": "text/x-python",
   "name": "python",
   "nbconvert_exporter": "python",
   "pygments_lexer": "ipython3",
   "version": "3.9.12"
  }
 },
 "nbformat": 4,
 "nbformat_minor": 4
}
